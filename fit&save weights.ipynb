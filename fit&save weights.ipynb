{
 "cells": [
  {
   "cell_type": "code",
   "execution_count": null,
   "metadata": {},
   "outputs": [],
   "source": [
    "#set initial weights     \n",
    "model.load_weights('/home/mengjiao/model_weights/initial_model_svm.npy')\n",
    "\n",
    "#set checkpoints to save weights and start training\n",
    "checkpoint = ModelCheckpoint('/home/mengjiao/weights/best_model_svm'+str(nb_repeat)+str(nb_cv)+'.npy', verbose=1, monitor='val_accuracy', mode='auto', save_best_only=True)\n",
    "callbacks_list = [checkpoint]\n",
    "history=model.fit(X_train,Y_train,validation_data=(X_test,Y_test),batch_size=batch_size,epochs=nb_epoch,shuffle=True,verbose=0, callbacks=callbacks_list)"
   ]
  },
  {
   "cell_type": "code",
   "execution_count": null,
   "metadata": {},
   "outputs": [],
   "source": [
    "#set best weights\n",
    "weights_file='/home/mengjiao/weights/best_model_svm'+str(nb_repeat)+str(nb_cv)+'.npy'\n",
    "model.load_weights(weights_file)\n",
    "\n",
    "#print model evaluate score\n",
    "score=model.evaluate(X_test,Y_test)\n",
    "print(score)\n",
    "\n",
    "#obtain predict_prob, pred and confusion matrix\n",
    "#predict output\n",
    "predictions = model.predict(X_test)\n",
    "y_pred = (predictions > 0.5).argmax(axis=1)\n",
    "y_pred_proba=predictions[:, 1]\n",
    "y_true =Y_test.argmax(axis=1)\n",
    "\n",
    "#confusion matrix\n",
    "matrix = metrics.confusion_matrix(y_true, y_pred)     \n",
    "\n",
    "#print accuracy, sensitivity and specificity\n",
    "total = sum(sum(matrix))\n",
    "accuracy = (matrix[0, 0] + matrix[1, 1]) / total\n",
    "specificity=matrix[0, 0] / (matrix[0, 0] + matrix[0, 1])\n",
    "sensitivity=matrix[1, 1] / (matrix[1, 0] + matrix[1, 1]) \n",
    "  \n",
    "# Plot training & validation accuracy values\n",
    "plt.plot(history.history['accuracy'])\n",
    "plt.plot(history.history['val_accuracy'])\n",
    "plt.title('Model accuracy')\n",
    "plt.ylabel('Accuracy')\n",
    "plt.xlabel('Epoch')\n",
    "plt.legend(['Train', 'Test'], loc='upper left')\n",
    "plt.show()\n",
    "\n",
    "# Plot training & validation loss values\n",
    "plt.plot(history.history['loss'])\n",
    "plt.plot(history.history['val_loss'])\n",
    "plt.title('Model loss')\n",
    "plt.ylabel('Loss')\n",
    "plt.xlabel('Epoch')\n",
    "plt.legend(['Train', 'Test'], loc='upper left')\n",
    "plt.show()\n",
    "\n",
    "#plot ROC curve\n",
    "y_true=np.array(y_true).flatten()\n",
    "y_pred=np.array(y_pred).flatten()\n",
    "auc = roc_auc_score(y_true,y_pred)\n",
    "print('AUC: %.3f' % auc)\n",
    "\n",
    "# calculate roc curve\n",
    "fpr, tpr, thresholds = roc_curve(y_true,y_pred)\n",
    "# plot no skill\n",
    "pyplot.plot([0, 1], [0, 1], linestyle='--')\n",
    "# plot the roc curve for the model\n",
    "pyplot.plot(fpr, tpr, marker='.')\n",
    "# show the plot\n",
    "pyplot.show()"
   ]
  }
 ],
 "metadata": {
  "kernelspec": {
   "display_name": "Python 3",
   "language": "python",
   "name": "python3"
  },
  "language_info": {
   "codemirror_mode": {
    "name": "ipython",
    "version": 3
   },
   "file_extension": ".py",
   "mimetype": "text/x-python",
   "name": "python",
   "nbconvert_exporter": "python",
   "pygments_lexer": "ipython3",
   "version": "3.6.7"
  }
 },
 "nbformat": 4,
 "nbformat_minor": 2
}
